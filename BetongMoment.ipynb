{
 "cells": [
  {
   "cell_type": "markdown",
   "metadata": {},
   "source": [
    "# BetongMoment"
   ]
  },
  {
   "cell_type": "code",
   "execution_count": 370,
   "metadata": {},
   "outputs": [],
   "source": [
    "from ipywidgets import *\n",
    "from ipywidgets import interact, widgets, interactive\n",
    "from IPython.display import display\n",
    "import numpy as np\n",
    "import math\n",
    "import nbinteract as nbi\n",
    "# import matplotlib.pyplot as mpl"
   ]
  },
  {
   "cell_type": "code",
   "execution_count": 371,
   "metadata": {},
   "outputs": [],
   "source": [
    "def momentkap(a, t, d2, As, b, Es, d, fsd, fcd, epscu):\n",
    "    T=fcd*b*0.8*d*a\n",
    "    MT=T*(t/2-0.8/2*a*d)\n",
    "    if a<3.5/(3.5+2.17):\n",
    "        S=As*fsd\n",
    "    else:\n",
    "        S=As*Es*(epscu/a-epscu)\n",
    "    MS=S*(t/2-d2)\n",
    "    M=MT+MS\n",
    "    return M"
   ]
  },
  {
   "cell_type": "code",
   "execution_count": 372,
   "metadata": {},
   "outputs": [],
   "source": [
    "def aksialkap(a, t, d2, As, b, Es, d, fsd, fcd, epscu):\n",
    "    T=fcd*b*0.8*d*a\n",
    "    if a<3.5/(3.5+2.17):\n",
    "        S=As*fsd\n",
    "    else:\n",
    "        S=As*Es*(epscu/a-epscu)\n",
    "    N=T-S\n",
    "    return N"
   ]
  },
  {
   "cell_type": "code",
   "execution_count": 373,
   "metadata": {},
   "outputs": [],
   "source": [
    "def utnyttelsesgrad(xlast, ylast, x, y):\n",
    "    delta=0\n",
    "    ind=np.where((y > ylast-delta) & (y < ylast+delta))\n",
    "    while  ind[0].size==0:\n",
    "        ind=np.where((y > ylast-delta) & (y < ylast+delta))\n",
    "        delta=delta+1\n",
    "    u=xlast/x[ind[0].item(0)]\n",
    "    return u"
   ]
  },
  {
   "cell_type": "code",
   "execution_count": 374,
   "metadata": {},
   "outputs": [],
   "source": [
    "def plotmn(alphas, steps, b, Es, fsd, epscu, Momentlast=400, Aksiallast=8000, Tykkelse=600, Overdekning=75, Armering=16, CC=150, Trykkfasthet=45):\n",
    "    t=Tykkelse/1000\n",
    "    d2=Overdekning/1000+Armering/2/1000\n",
    "    As=math.pi*(Armering/1000)**2/4*b/CC*1000\n",
    "    fcd=0.85*Trykkfasthet/1.5*10**6\n",
    "    d=t-d2\n",
    "    M=np.zeros(steps)\n",
    "    N=np.zeros(steps)\n",
    "    i=0\n",
    "    for a in alphas:\n",
    "        M[i]=momentkap(a, t, d2, As, b, Es, d, fsd, fcd, epscu)\n",
    "        N[i]=aksialkap(a, t, d2, As, b, Es, d, fsd, fcd, epscu)\n",
    "        i=i+1\n",
    "    M[0]=0\n",
    "    N[0]=fcd*b*t\n",
    "    M=M/1000\n",
    "    N=N/1000\n",
    "    \n",
    "    # mpl.plot(M, N)\n",
    "    # mpl.plot(Momentlast, Aksiallast, 'ro')\n",
    "    # mpl.xlabel('Moment[kNm]')\n",
    "    # mpl.ylabel('Aksialkraft[kN]')\n",
    "    # mpl.title('MN-diagram for betongtverrsnitt')\n",
    "    \n",
    "    # print(\"Utnyttelsesgrad momentlast: \", round(utnyttelsesgrad(Momentlast, Aksiallast, M, N), 3))\n",
    "    # print(\"Utnyttelsesgrad aksiallast: \", round(utnyttelsesgrad(Aksiallast, Momentlast, N, M), 3))\n",
    "    \n",
    "    # print(M)\n",
    "    # print(N)\n",
    "    \n",
    "    return M, N"
   ]
  },
  {
   "cell_type": "code",
   "execution_count": 375,
   "metadata": {},
   "outputs": [],
   "source": [
    "def plotmnx(alphas, steps, b, Es, fsd, epscu, Momentlast, Aksiallast, Tykkelse, Overdekning, Armering, CC, Trykkfasthet):\n",
    "    \n",
    "    global M\n",
    "    global N\n",
    "    \n",
    "    M, N = plotmn(alphas, steps, b, Es, fsd, epscu, Momentlast, Aksiallast, Tykkelse, Overdekning, Armering, CC, Trykkfasthet)\n",
    "    \n",
    "    print(\"Utnyttelsesgrad momentlast: \", round(utnyttelsesgrad(Momentlast, Aksiallast, M, N), 3))\n",
    "    \n",
    "    # print(M)\n",
    "    \n",
    "    return M"
   ]
  },
  {
   "cell_type": "code",
   "execution_count": 376,
   "metadata": {},
   "outputs": [],
   "source": [
    "def plotmny(alphas, steps, b, Es, fsd, epscu, Momentlast, Aksiallast, Tykkelse, Overdekning, Armering, CC, Trykkfasthet):\n",
    "    \n",
    "    global M\n",
    "    global N\n",
    "    \n",
    "    # M, N = plotmn(alphas, steps, b, Es, fsd, epscu, Momentlast, Aksiallast, Tykkelse, Overdekning, Armering, CC, Trykkfasthet)\n",
    "    \n",
    "    print(\"Utnyttelsesgrad aksiallast: \", round(utnyttelsesgrad(Aksiallast, Momentlast, N, M), 3))\n",
    "    \n",
    "    # print(N)\n",
    "    \n",
    "    return N"
   ]
  },
  {
   "cell_type": "code",
   "execution_count": 377,
   "metadata": {
    "scrolled": false
   },
   "outputs": [
    {
     "data": {
      "application/vnd.jupyter.widget-view+json": {
       "model_id": "c25a6de419254ffc869b1b0e9ef5a249",
       "version_major": 2,
       "version_minor": 0
      },
      "text/plain": [
       "VBox(children=(interactive(children=(IntSlider(value=1000, description='Momentlast', max=2000), IntSlider(valu…"
      ]
     },
     "metadata": {},
     "output_type": "display_data"
    }
   ],
   "source": [
    "# t=0.6\n",
    "# fck=45*10**6\n",
    "# d2=0.075\n",
    "# As=0.001340\n",
    "b=1\n",
    "fyk=500*10**6\n",
    "Es=200*10**9\n",
    "fsd=fyk/1.15\n",
    "epsyd=0.00217\n",
    "epscu=0.0035\n",
    "epsymaks=0.015\n",
    "\n",
    "steps=100\n",
    "\n",
    "alphamax=1.25\n",
    "alphamin=epscu/(epscu+epsymaks)\n",
    "alphas=np.linspace(alphamax,alphamin,steps)\n",
    "\n",
    "# w=interactive(plotmn, alphas=fixed(alphas), steps=fixed(steps), b=fixed(b), Es=fixed(Es), fsd=fixed(fsd), epscu=fixed(epscu), Momentlast=(0, 2000), Aksiallast=(0, 20000), Tykkelse=(200, 1000), Overdekning=(20, 150), Armering=(12, 32), CC=(100, 300), Trykkfasthet=(25, 55))\n",
    "# display(w)\n",
    "# nbi.line(w.result[0], w.result[1])\n",
    "\n",
    "nbi.line(plotmnx, plotmny, alphas=fixed(alphas), steps=fixed(steps), b=fixed(b), Es=fixed(Es), fsd=fixed(fsd), epscu=fixed(epscu), Momentlast=(0, 2000), Aksiallast=(0, 20000), Tykkelse=(200, 1000), Overdekning=(20, 150), Armering=(12, 32), CC=(100, 300), Trykkfasthet=(25, 55))"
   ]
  },
  {
   "cell_type": "code",
   "execution_count": null,
   "metadata": {},
   "outputs": [],
   "source": []
  }
 ],
 "metadata": {
  "kernelspec": {
   "display_name": "Python 3",
   "language": "python",
   "name": "python3"
  },
  "language_info": {
   "codemirror_mode": {
    "name": "ipython",
    "version": 3
   },
   "file_extension": ".py",
   "mimetype": "text/x-python",
   "name": "python",
   "nbconvert_exporter": "python",
   "pygments_lexer": "ipython3",
   "version": "3.7.6"
  }
 },
 "nbformat": 4,
 "nbformat_minor": 4
}
